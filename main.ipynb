{
 "cells": [
  {
   "cell_type": "code",
   "execution_count": 1,
   "id": "9f1d627e-fef6-4363-95e4-ac3b585a0026",
   "metadata": {},
   "outputs": [],
   "source": [
    "import numpy as np\n",
    "import pandas as pd\n",
    "import matplotlib.pyplot as plt\n",
    "import seaborn as sns"
   ]
  },
  {
   "cell_type": "code",
   "execution_count": 3,
   "id": "1185ffda-d569-4f99-b5c5-b18cc401fe48",
   "metadata": {},
   "outputs": [],
   "source": [
    "df = pd.read_csv(\"Sheet_1.csv\")"
   ]
  },
  {
   "cell_type": "code",
   "execution_count": 4,
   "id": "ccc79590-4fbc-4c89-9a4b-88fa6600a6ce",
   "metadata": {},
   "outputs": [
    {
     "data": {
      "text/plain": [
       "(80, 8)"
      ]
     },
     "execution_count": 4,
     "metadata": {},
     "output_type": "execute_result"
    }
   ],
   "source": [
    "df.shape"
   ]
  },
  {
   "cell_type": "code",
   "execution_count": 5,
   "id": "b4168e89-f243-4781-abb5-8a17b2f1f72c",
   "metadata": {},
   "outputs": [
    {
     "data": {
      "text/html": [
       "<div>\n",
       "<style scoped>\n",
       "    .dataframe tbody tr th:only-of-type {\n",
       "        vertical-align: middle;\n",
       "    }\n",
       "\n",
       "    .dataframe tbody tr th {\n",
       "        vertical-align: top;\n",
       "    }\n",
       "\n",
       "    .dataframe thead th {\n",
       "        text-align: right;\n",
       "    }\n",
       "</style>\n",
       "<table border=\"1\" class=\"dataframe\">\n",
       "  <thead>\n",
       "    <tr style=\"text-align: right;\">\n",
       "      <th></th>\n",
       "      <th>response_id</th>\n",
       "      <th>class</th>\n",
       "      <th>response_text</th>\n",
       "      <th>Unnamed: 3</th>\n",
       "      <th>Unnamed: 4</th>\n",
       "      <th>Unnamed: 5</th>\n",
       "      <th>Unnamed: 6</th>\n",
       "      <th>Unnamed: 7</th>\n",
       "    </tr>\n",
       "  </thead>\n",
       "  <tbody>\n",
       "    <tr>\n",
       "      <th>0</th>\n",
       "      <td>response_1</td>\n",
       "      <td>not_flagged</td>\n",
       "      <td>I try and avoid this sort of conflict</td>\n",
       "      <td>NaN</td>\n",
       "      <td>NaN</td>\n",
       "      <td>NaN</td>\n",
       "      <td>NaN</td>\n",
       "      <td>NaN</td>\n",
       "    </tr>\n",
       "    <tr>\n",
       "      <th>1</th>\n",
       "      <td>response_2</td>\n",
       "      <td>flagged</td>\n",
       "      <td>Had a friend open up to me about his mental ad...</td>\n",
       "      <td>NaN</td>\n",
       "      <td>NaN</td>\n",
       "      <td>NaN</td>\n",
       "      <td>NaN</td>\n",
       "      <td>NaN</td>\n",
       "    </tr>\n",
       "    <tr>\n",
       "      <th>2</th>\n",
       "      <td>response_3</td>\n",
       "      <td>flagged</td>\n",
       "      <td>I saved a girl from suicide once. She was goin...</td>\n",
       "      <td>NaN</td>\n",
       "      <td>NaN</td>\n",
       "      <td>NaN</td>\n",
       "      <td>NaN</td>\n",
       "      <td>NaN</td>\n",
       "    </tr>\n",
       "    <tr>\n",
       "      <th>3</th>\n",
       "      <td>response_4</td>\n",
       "      <td>not_flagged</td>\n",
       "      <td>i cant think of one really...i think i may hav...</td>\n",
       "      <td>NaN</td>\n",
       "      <td>NaN</td>\n",
       "      <td>NaN</td>\n",
       "      <td>NaN</td>\n",
       "      <td>NaN</td>\n",
       "    </tr>\n",
       "    <tr>\n",
       "      <th>4</th>\n",
       "      <td>response_5</td>\n",
       "      <td>not_flagged</td>\n",
       "      <td>Only really one friend who doesn't fit into th...</td>\n",
       "      <td></td>\n",
       "      <td>NaN</td>\n",
       "      <td>NaN</td>\n",
       "      <td>NaN</td>\n",
       "      <td>NaN</td>\n",
       "    </tr>\n",
       "  </tbody>\n",
       "</table>\n",
       "</div>"
      ],
      "text/plain": [
       "  response_id        class                                      response_text  \\\n",
       "0  response_1  not_flagged              I try and avoid this sort of conflict   \n",
       "1  response_2      flagged  Had a friend open up to me about his mental ad...   \n",
       "2  response_3      flagged  I saved a girl from suicide once. She was goin...   \n",
       "3  response_4  not_flagged  i cant think of one really...i think i may hav...   \n",
       "4  response_5  not_flagged  Only really one friend who doesn't fit into th...   \n",
       "\n",
       "  Unnamed: 3  Unnamed: 4 Unnamed: 5  Unnamed: 6 Unnamed: 7  \n",
       "0        NaN         NaN        NaN         NaN        NaN  \n",
       "1        NaN         NaN        NaN         NaN        NaN  \n",
       "2        NaN         NaN        NaN         NaN        NaN  \n",
       "3        NaN         NaN        NaN         NaN        NaN  \n",
       "4                    NaN        NaN         NaN        NaN  "
      ]
     },
     "execution_count": 5,
     "metadata": {},
     "output_type": "execute_result"
    }
   ],
   "source": [
    "df.head()"
   ]
  },
  {
   "cell_type": "code",
   "execution_count": 10,
   "id": "d3cc60fc-c244-4ffb-9133-125d8e7d3bc5",
   "metadata": {},
   "outputs": [],
   "source": [
    "df = df.drop(columns=[\"response_id\", \"Unnamed: 3\", \"Unnamed: 4\", \"Unnamed: 5\", \"Unnamed: 6\", \"Unnamed: 7\"])"
   ]
  },
  {
   "cell_type": "code",
   "execution_count": 11,
   "id": "9448cc6e-b5e0-4b50-b268-5cf904393e8f",
   "metadata": {},
   "outputs": [
    {
     "data": {
      "text/plain": [
       "(80, 2)"
      ]
     },
     "execution_count": 11,
     "metadata": {},
     "output_type": "execute_result"
    }
   ],
   "source": [
    "df.shape"
   ]
  },
  {
   "cell_type": "code",
   "execution_count": 12,
   "id": "e329b2e1-c425-4f82-8e58-30de990ab7d1",
   "metadata": {},
   "outputs": [
    {
     "data": {
      "text/html": [
       "<div>\n",
       "<style scoped>\n",
       "    .dataframe tbody tr th:only-of-type {\n",
       "        vertical-align: middle;\n",
       "    }\n",
       "\n",
       "    .dataframe tbody tr th {\n",
       "        vertical-align: top;\n",
       "    }\n",
       "\n",
       "    .dataframe thead th {\n",
       "        text-align: right;\n",
       "    }\n",
       "</style>\n",
       "<table border=\"1\" class=\"dataframe\">\n",
       "  <thead>\n",
       "    <tr style=\"text-align: right;\">\n",
       "      <th></th>\n",
       "      <th>class</th>\n",
       "      <th>response_text</th>\n",
       "    </tr>\n",
       "  </thead>\n",
       "  <tbody>\n",
       "    <tr>\n",
       "      <th>0</th>\n",
       "      <td>not_flagged</td>\n",
       "      <td>I try and avoid this sort of conflict</td>\n",
       "    </tr>\n",
       "    <tr>\n",
       "      <th>1</th>\n",
       "      <td>flagged</td>\n",
       "      <td>Had a friend open up to me about his mental ad...</td>\n",
       "    </tr>\n",
       "    <tr>\n",
       "      <th>2</th>\n",
       "      <td>flagged</td>\n",
       "      <td>I saved a girl from suicide once. She was goin...</td>\n",
       "    </tr>\n",
       "    <tr>\n",
       "      <th>3</th>\n",
       "      <td>not_flagged</td>\n",
       "      <td>i cant think of one really...i think i may hav...</td>\n",
       "    </tr>\n",
       "    <tr>\n",
       "      <th>4</th>\n",
       "      <td>not_flagged</td>\n",
       "      <td>Only really one friend who doesn't fit into th...</td>\n",
       "    </tr>\n",
       "  </tbody>\n",
       "</table>\n",
       "</div>"
      ],
      "text/plain": [
       "         class                                      response_text\n",
       "0  not_flagged              I try and avoid this sort of conflict\n",
       "1      flagged  Had a friend open up to me about his mental ad...\n",
       "2      flagged  I saved a girl from suicide once. She was goin...\n",
       "3  not_flagged  i cant think of one really...i think i may hav...\n",
       "4  not_flagged  Only really one friend who doesn't fit into th..."
      ]
     },
     "execution_count": 12,
     "metadata": {},
     "output_type": "execute_result"
    }
   ],
   "source": [
    "df.head()"
   ]
  },
  {
   "cell_type": "code",
   "execution_count": 13,
   "id": "a154ddc5-96de-4b07-b0b7-af288340ae59",
   "metadata": {},
   "outputs": [
    {
     "data": {
      "text/plain": [
       "class            0\n",
       "response_text    0\n",
       "dtype: int64"
      ]
     },
     "execution_count": 13,
     "metadata": {},
     "output_type": "execute_result"
    }
   ],
   "source": [
    "df.isna().sum()"
   ]
  },
  {
   "cell_type": "code",
   "execution_count": 14,
   "id": "05d23006-ce0a-416c-b02d-a85435e75c74",
   "metadata": {},
   "outputs": [
    {
     "name": "stdout",
     "output_type": "stream",
     "text": [
      "<class 'pandas.core.frame.DataFrame'>\n",
      "RangeIndex: 80 entries, 0 to 79\n",
      "Data columns (total 2 columns):\n",
      " #   Column         Non-Null Count  Dtype \n",
      "---  ------         --------------  ----- \n",
      " 0   class          80 non-null     object\n",
      " 1   response_text  80 non-null     object\n",
      "dtypes: object(2)\n",
      "memory usage: 1.4+ KB\n"
     ]
    }
   ],
   "source": [
    "df.info()"
   ]
  },
  {
   "cell_type": "code",
   "execution_count": 15,
   "id": "ee0498f1-6eec-4459-b0e2-ff0b80bad4bd",
   "metadata": {},
   "outputs": [],
   "source": [
    "from sklearn.preprocessing import LabelEncoder"
   ]
  },
  {
   "cell_type": "code",
   "execution_count": 17,
   "id": "c886ca97-6ed8-443d-8a0d-26f575d9a47d",
   "metadata": {},
   "outputs": [],
   "source": [
    "df[\"class\"] = LabelEncoder().fit_transform(df[\"class\"])"
   ]
  },
  {
   "cell_type": "code",
   "execution_count": 18,
   "id": "1c6ff584-cbac-4184-8e43-c13514a9a0a2",
   "metadata": {},
   "outputs": [
    {
     "name": "stdout",
     "output_type": "stream",
     "text": [
      "<class 'pandas.core.frame.DataFrame'>\n",
      "RangeIndex: 80 entries, 0 to 79\n",
      "Data columns (total 2 columns):\n",
      " #   Column         Non-Null Count  Dtype \n",
      "---  ------         --------------  ----- \n",
      " 0   class          80 non-null     int32 \n",
      " 1   response_text  80 non-null     object\n",
      "dtypes: int32(1), object(1)\n",
      "memory usage: 1.1+ KB\n"
     ]
    }
   ],
   "source": [
    "df.info()"
   ]
  },
  {
   "cell_type": "code",
   "execution_count": 19,
   "id": "4cb68d31-2573-4313-ba42-e00f5eb3a69e",
   "metadata": {},
   "outputs": [
    {
     "data": {
      "text/html": [
       "<div>\n",
       "<style scoped>\n",
       "    .dataframe tbody tr th:only-of-type {\n",
       "        vertical-align: middle;\n",
       "    }\n",
       "\n",
       "    .dataframe tbody tr th {\n",
       "        vertical-align: top;\n",
       "    }\n",
       "\n",
       "    .dataframe thead th {\n",
       "        text-align: right;\n",
       "    }\n",
       "</style>\n",
       "<table border=\"1\" class=\"dataframe\">\n",
       "  <thead>\n",
       "    <tr style=\"text-align: right;\">\n",
       "      <th></th>\n",
       "      <th>class</th>\n",
       "      <th>response_text</th>\n",
       "    </tr>\n",
       "  </thead>\n",
       "  <tbody>\n",
       "    <tr>\n",
       "      <th>0</th>\n",
       "      <td>1</td>\n",
       "      <td>I try and avoid this sort of conflict</td>\n",
       "    </tr>\n",
       "    <tr>\n",
       "      <th>1</th>\n",
       "      <td>0</td>\n",
       "      <td>Had a friend open up to me about his mental ad...</td>\n",
       "    </tr>\n",
       "    <tr>\n",
       "      <th>2</th>\n",
       "      <td>0</td>\n",
       "      <td>I saved a girl from suicide once. She was goin...</td>\n",
       "    </tr>\n",
       "    <tr>\n",
       "      <th>3</th>\n",
       "      <td>1</td>\n",
       "      <td>i cant think of one really...i think i may hav...</td>\n",
       "    </tr>\n",
       "    <tr>\n",
       "      <th>4</th>\n",
       "      <td>1</td>\n",
       "      <td>Only really one friend who doesn't fit into th...</td>\n",
       "    </tr>\n",
       "  </tbody>\n",
       "</table>\n",
       "</div>"
      ],
      "text/plain": [
       "   class                                      response_text\n",
       "0      1              I try and avoid this sort of conflict\n",
       "1      0  Had a friend open up to me about his mental ad...\n",
       "2      0  I saved a girl from suicide once. She was goin...\n",
       "3      1  i cant think of one really...i think i may hav...\n",
       "4      1  Only really one friend who doesn't fit into th..."
      ]
     },
     "execution_count": 19,
     "metadata": {},
     "output_type": "execute_result"
    }
   ],
   "source": [
    "df.head()"
   ]
  },
  {
   "cell_type": "code",
   "execution_count": 20,
   "id": "7a83a4c9-3c52-4bf4-81de-2ca47e48b0a7",
   "metadata": {},
   "outputs": [
    {
     "data": {
      "text/plain": [
       "<AxesSubplot:xlabel='class', ylabel='count'>"
      ]
     },
     "execution_count": 20,
     "metadata": {},
     "output_type": "execute_result"
    },
    {
     "data": {
      "image/png": "[encoded data removed]",
      "text/plain": [
       "<Figure size 432x288 with 1 Axes>"
      ]
     },
     "metadata": {
      "needs_background": "light"
     },
     "output_type": "display_data"
    }
   ],
   "source": [
    "sns.countplot(data=df, x=\"class\")"
   ]
  },
  {
   "cell_type": "code",
   "execution_count": 21,
   "id": "5994c331-d121-4e6b-9019-e1db09ada553",
   "metadata": {},
   "outputs": [
    {
     "data": {
      "text/plain": [
       "(80, 2)"
      ]
     },
     "execution_count": 21,
     "metadata": {},
     "output_type": "execute_result"
    }
   ],
   "source": [
    "df.shape"
   ]
  },
  {
   "cell_type": "code",
   "execution_count": 24,
   "id": "604dfb42-e0b7-4676-8b1d-1eba580dabbe",
   "metadata": {},
   "outputs": [
    {
     "name": "stdout",
     "output_type": "stream",
     "text": [
      "I try and avoid this sort of conflict\n",
      "\n",
      "i cant think of one really...i think i may have indirectly\n",
      "\n",
      "Only really one friend who doesn't fit into the any of the above categories. Her therapist calls it spiraling.\" Anyway she pretty much calls me any time she is frustrated by something with  her boyfriend to ask me if it's logical or not. Before they would just fight and he would call her crazy. Now she asks me if it's ok he didn't say \"please\" when he said  \"hand me the remote.\"\n",
      "\n",
      "a couple of years ago my friends was going to switch school because of low self esteem too. I helped him overcome that shit too\n",
      "\n",
      "Listened to someone talk about relationship troubles. Offered some advice from personal experience.\n",
      "\n"
     ]
    }
   ],
   "source": [
    "for c in df[df[\"class\"] == 1][\"response_text\"].iloc[:5]:\n",
    "    print(c + \"\\n\")"
   ]
  },
  {
   "cell_type": "code",
   "execution_count": 25,
   "id": "cf5b472b-1cc8-46d2-8dda-d2033593024d",
   "metadata": {},
   "outputs": [
    {
     "name": "stdout",
     "output_type": "stream",
     "text": [
      "Had a friend open up to me about his mental addiction to weed and how it was taking over his life and making him depressed\n",
      "\n",
      "I saved a girl from suicide once. She was going to swallow a bunch of pills and I talked her out of it in a very calm, loving way.\n",
      "\n",
      "Roommate when he was going through death and loss of a gf. Did anything to get him out of his bedroom.\n",
      "\n",
      "i've had a couple of friends (you could say more than friends) with quite severe depression/ emotional problems. i helped for a while but eventually both relationships started to suffer as a result of both our personal problems\n",
      "\n",
      "I will always listen. I comforted my sister when she lost her virgity the same night she walked in on her boyfriend cutting himself, and then our parents found out she threw a house part. Simply bring supportive was my focus.\n",
      "\n"
     ]
    }
   ],
   "source": [
    "for c in df[df[\"class\"] == 0][\"response_text\"].iloc[:5]:\n",
    "    print(c + \"\\n\")"
   ]
  },
  {
   "cell_type": "code",
   "execution_count": 26,
   "id": "24376f47-569b-4c44-ab9b-806e2c1a9496",
   "metadata": {},
   "outputs": [],
   "source": [
    "from sklearn.model_selection import train_test_split\n",
    "from sklearn.feature_extraction.text import TfidfVectorizer"
   ]
  },
  {
   "cell_type": "code",
   "execution_count": 27,
   "id": "5206f715-c37c-42c1-9d47-ca68e588d910",
   "metadata": {},
   "outputs": [],
   "source": [
    "x, y = df[\"response_text\"].values, df[\"class\"].values"
   ]
  },
  {
   "cell_type": "code",
   "execution_count": 28,
   "id": "01db430f-bbd4-4f9b-8761-7abe3366bae6",
   "metadata": {},
   "outputs": [],
   "source": [
    "x_train, x_test, y_train, y_test = train_test_split(x, y, test_size=0.3)"
   ]
  },
  {
   "cell_type": "code",
   "execution_count": 33,
   "id": "c7207afa-0583-4f36-b55c-2d0ea4dade75",
   "metadata": {},
   "outputs": [],
   "source": [
    "import nltk\n",
    "from nltk.corpus import stopwords\n",
    "from nltk.tokenize import word_tokenize\n",
    "from nltk.stem import SnowballStemmer\n",
    "import string"
   ]
  },
  {
   "cell_type": "code",
   "execution_count": 36,
   "id": "ab363b1c-74cc-4034-a4e7-7f6f7c200192",
   "metadata": {},
   "outputs": [],
   "source": [
    "example_response_text = df[\"response_text\"].iloc[0]\n",
    "tokens = word_tokenize(example_response_text)\n",
    "tokens_without_punctuation = [i for i in tokens if i not in string.punctuation]\n",
    "stop_words = stopwords.words()\n",
    "tokens_without_punctuation_and_stop_words = [i for i in tokens_without_punctuation if i not in stop_words]\n",
    "stemmer = SnowballStemmer(language=\"english\")\n",
    "stemmed_tokens = [stemmer.stem(i) for i in tokens_without_punctuation_and_stop_words]"
   ]
  },
  {
   "cell_type": "code",
   "execution_count": 37,
   "id": "1d711c1c-5b1b-4d9c-afcc-720e9b411c77",
   "metadata": {},
   "outputs": [
    {
     "data": {
      "text/plain": [
       "'I try and avoid this sort of conflict'"
      ]
     },
     "execution_count": 37,
     "metadata": {},
     "output_type": "execute_result"
    }
   ],
   "source": [
    "example_response_text"
   ]
  },
  {
   "cell_type": "code",
   "execution_count": 38,
   "id": "ab872b66-1b5f-4387-916b-ca5f75f15941",
   "metadata": {},
   "outputs": [
    {
     "data": {
      "text/plain": [
       "['i', 'tri', 'avoid', 'sort', 'conflict']"
      ]
     },
     "execution_count": 38,
     "metadata": {},
     "output_type": "execute_result"
    }
   ],
   "source": [
    "stemmed_tokens"
   ]
  },
  {
   "cell_type": "code",
   "execution_count": 39,
   "id": "48f93eb9-0265-4fff-8f5d-3fb02becd5ee",
   "metadata": {},
   "outputs": [],
   "source": [
    "stopwords = stopwords.words()\n",
    "stemmer = SnowballStemmer(language=\"english\")"
   ]
  },
  {
   "cell_type": "code",
   "execution_count": 40,
   "id": "0d93fec8-e1ad-4cf8-af28-642514178cc9",
   "metadata": {},
   "outputs": [],
   "source": [
    "def process_response(response: str):\n",
    "    tokens = word_tokenize(response)\n",
    "    tokens_without_punctuation = [i for i in tokens if i not in string.punctuation]\n",
    "    tokens_without_punctuation_and_stop_words = [i for i in tokens_without_punctuation if i not in stop_words]\n",
    "    stemmed_tokens = [stemmer.stem(i) for i in tokens_without_punctuation_and_stop_words]\n",
    "    return stemmed_tokens"
   ]
  },
  {
   "cell_type": "code",
   "execution_count": 41,
   "id": "ec2a6a93-5b50-49b2-a294-dbd1f62ed815",
   "metadata": {},
   "outputs": [
    {
     "data": {
      "text/plain": [
       "['i', 'tri', 'avoid', 'sort', 'conflict']"
      ]
     },
     "execution_count": 41,
     "metadata": {},
     "output_type": "execute_result"
    }
   ],
   "source": [
    "process_response(df[\"response_text\"].iloc[0])"
   ]
  },
  {
   "cell_type": "code",
   "execution_count": 42,
   "id": "eb777125-079b-456e-8a4c-ae3923b66723",
   "metadata": {},
   "outputs": [],
   "source": [
    "vectorizer = TfidfVectorizer(tokenizer=lambda x: process_response(x))"
   ]
  },
  {
   "cell_type": "code",
   "execution_count": 43,
   "id": "818abca6-cf43-4d0f-80fb-45c610c22dcd",
   "metadata": {},
   "outputs": [],
   "source": [
    "features = vectorizer.fit_transform(df[\"response_text\"])"
   ]
  },
  {
   "cell_type": "code",
   "execution_count": 45,
   "id": "4c719b47-554f-443c-930c-55458a6d0eff",
   "metadata": {},
   "outputs": [
    {
     "data": {
      "text/plain": [
       "array([\"''\", \"'d\", \"'m\", \"'s\", '..', '...', '1n', '2', '5', '50+', '``',\n",
       "       'abl', 'absolut', 'acquaint', 'act', 'action', 'activ', 'addict',\n",
       "       'adequ', 'admit', 'advic', 'advis', 'age', 'ago', 'agoni',\n",
       "       'alcohol', 'allow', 'almost', 'alon', 'along', 'alreadi',\n",
       "       'although', 'alway', 'anniversari', 'anoth', 'answer', 'anxieti',\n",
       "       'anxious', 'anyon', 'anyth', 'anyway', 'appos', 'around', 'ask',\n",
       "       'attent', 'aunt', 'avoid', 'away', 'back', 'bad', 'basic',\n",
       "       'bedroom', 'best', 'better', 'big', 'bit', 'blow', 'blue', 'blunt',\n",
       "       'book', 'boyfriend', 'break', 'bring', 'brother', 'brought',\n",
       "       'bunch', 'call', 'calm', 'came', 'camp', 'camping/surf', 'campsit',\n",
       "       'cancer', 'cant', 'car', 'care', 'categori', 'caught', 'caus',\n",
       "       'chanc', 'chang', 'chat', 'circumst', 'clean', 'cocain', 'come',\n",
       "       'comfort', 'commit', 'common', 'complet', 'concern', 'confin',\n",
       "       'conflict', 'convinc', 'cop', 'cope', 'could', 'counselor',\n",
       "       'countless', 'coupl', 'crazi', 'cut', 'cutter/suicid', 'damn',\n",
       "       'date', 'day', 'deal', 'dealt', 'death', 'defin', 'depress',\n",
       "       'depression/', 'describ', 'desir', 'diagnos', 'dialog', 'die',\n",
       "       'difficulti', 'disord', 'doc', 'dont', 'douch', 'drag', 'drove',\n",
       "       'drug', 'due', 'dump', 'ear', 'earlier', 'eight', 'either', 'els',\n",
       "       'email', 'emot', 'encourag', 'end', 'enough', 'entir', 'essenti',\n",
       "       'esteem', 'even', 'eventu', 'ever', 'everi', 'everyday', 'everyth',\n",
       "       'ex', 'exampl', 'excit', 'experi', 'express', 'extrem', 'face',\n",
       "       'facebook', 'fact', 'fair', 'famili', 'father', 'feel', 'fell',\n",
       "       'felt', 'fight', 'find', 'first', 'fit', 'fix', 'flicker', 'focus',\n",
       "       'found', 'friend', 'frustrat', 'gave', 'ged', 'get', 'gf', 'girl',\n",
       "       'girlfriend', 'give', 'go', 'goal', 'gone', 'good', 'got', 'grade',\n",
       "       'grandmoth', 'guess', 'guy', 'hadnt', 'haha', 'half', 'hand',\n",
       "       'happen', 'hard', 'harm', 'head', 'heal', 'health', 'hear',\n",
       "       'heard', 'help', 'hesit', 'high', 'hit', 'hold', 'home',\n",
       "       'homeless', 'honest', 'hood', 'hope', 'horrabl', 'hospit', 'hour',\n",
       "       'hous', 'huge', 'human', 'hung', 'hurt', 'idk', 'import',\n",
       "       'indirect', 'initi', 'innermost', 'input', 'insid', 'intens',\n",
       "       'internet', 'irl', 'irl/someon', 'isol', 'issu', 'joke', 'judg',\n",
       "       'junior', 'keep', 'kid', 'kill', 'kind', 'knew', 'know',\n",
       "       'knowledg', 'known', 'lack', 'last', 'late', 'laugh', 'least',\n",
       "       'lent', 'less', 'let', 'level', 'life', 'light', 'like', 'line',\n",
       "       'listen', 'littl', 'live', 'll', 'logic', 'long', 'look', 'lose',\n",
       "       'loss', 'lost', 'lot', 'love', 'low', 'made', 'major', 'make',\n",
       "       'manag', 'mani', 'may', 'mayb', 'memori', 'mental', 'method',\n",
       "       'might', 'mind', 'mom', 'month', 'mother', 'mt', 'much', \"n't\",\n",
       "       'natur', 'necessarili', 'need', 'nervous', 'never', 'nice',\n",
       "       'night', 'nobodi', 'normal', 'number', 'object', 'obtain',\n",
       "       'occurr', \"od'\", 'offer', 'often', 'oh', 'ok', 'open', 'other',\n",
       "       'overcom', 'pack', 'parent', 'part', 'past', 'path', 'peac',\n",
       "       'peopl', 'perfect', 'period', 'person', 'physic', 'pick', 'pill',\n",
       "       'pleas', 'posit', 'possibl', 'pretti', 'probabl', 'problem',\n",
       "       'progress', 'promis', 'provid', 'psych', 'pull', 'purpos',\n",
       "       'qualifi', 'question', 'quit', 'rant', 'ration', 're', 'read',\n",
       "       'realiti', 'realiz', 'realli', 'recoveri', 'refer', 'reflect',\n",
       "       'rehab', 'reject', 'relat', 'relationship', 'relief', 'rememb',\n",
       "       'remind', 'remot', 'resourc', 'respect', 'restless', 'result',\n",
       "       'roommat', 'rude', 'sad', 'said', 'save', 'saw', 'say', 'school',\n",
       "       'schoolwork', 'see', 'self', 'sens', 'serious', 'set', 'sever',\n",
       "       'share', 'shelter', 'shit', 'short', 'side', 'sign', 'similar',\n",
       "       'simpli', 'sister', 'situat', 'skip', 'slight', 'slowli',\n",
       "       'somebodi', 'someon', 'someth', 'sometim', 'sort', 'speak',\n",
       "       'specif', 'spent', 'spiral', 'spot', 'stabil', 'start', 'stay',\n",
       "       'still', 'stop', 'stori', 'stranger', 'struggl', 'stuff',\n",
       "       'subject', 'suffer', 'suicid', 'summer', 'super', 'support',\n",
       "       'sure', 'surviv', 'sustain', 'swallow', 'sway', 'swim', 'switch',\n",
       "       'take', 'taken', 'talk', 'teacher', 'tell', 'thankgiv', 'that',\n",
       "       'therapi', 'therapist', 'theripist', 'thing', 'think', 'though',\n",
       "       'thought', 'threw', 'throughout', 'time', 'togeth', 'told', 'took',\n",
       "       'top', 'tough', 'trap', 'treat', 'treatment', 'tri', 'troubl',\n",
       "       'truth', 'tryin', 'tunnel', 'turmoil', 'tutor', 'twice', 'type',\n",
       "       'understand', 'unfortun', 'unless', 'us', 'use', 've', 'vent',\n",
       "       'verg', 'virgiti', 'visit', 'walk', 'want', 'ward', 'way', 'weed',\n",
       "       'week', 'well', 'went', 'whenev', 'within', 'wood', 'work',\n",
       "       'would', 'write', 'year', 'yearbook'], dtype=object)"
      ]
     },
     "execution_count": 45,
     "metadata": {},
     "output_type": "execute_result"
    }
   ],
   "source": [
    "vectorizer.get_feature_names_out()"
   ]
  },
  {
   "cell_type": "code",
   "execution_count": 46,
   "id": "a235ac23-ae22-49d7-b49a-2bec4699083a",
   "metadata": {},
   "outputs": [],
   "source": [
    "from sklearn.pipeline import Pipeline\n",
    "from sklearn.linear_model import LogisticRegression\n",
    "from sklearn.model_selection import GridSearchCV"
   ]
  },
  {
   "cell_type": "code",
   "execution_count": 47,
   "id": "b0053028-69d4-4042-9969-c54c82dc04e9",
   "metadata": {},
   "outputs": [],
   "source": [
    "pipe = Pipeline([(\"vectorizer\", TfidfVectorizer(tokenizer=lambda x: process_response(x))), (\"model\", LogisticRegression())])"
   ]
  },
  {
   "cell_type": "code",
   "execution_count": 48,
   "id": "f75fc758-4e1e-4b19-8088-a2ed745131ac",
   "metadata": {},
   "outputs": [],
   "source": [
    "model = pipe.fit(x_train, y_train)"
   ]
  },
  {
   "cell_type": "code",
   "execution_count": 49,
   "id": "6da02d18-79ab-4862-9b25-c358d7f27287",
   "metadata": {},
   "outputs": [],
   "source": [
    "predictions = model.predict(x_test)"
   ]
  },
  {
   "cell_type": "code",
   "execution_count": 56,
   "id": "adccd623-c216-4912-8d68-a85186d6428e",
   "metadata": {},
   "outputs": [],
   "source": [
    "from sklearn.metrics import precision_score, recall_score"
   ]
  },
  {
   "cell_type": "code",
   "execution_count": 57,
   "id": "5abe377c-6f19-4bd8-b480-f719e27909f7",
   "metadata": {},
   "outputs": [
    {
     "data": {
      "text/plain": [
       "0.7916666666666666"
      ]
     },
     "execution_count": 57,
     "metadata": {},
     "output_type": "execute_result"
    }
   ],
   "source": [
    "precision_score(y_test, predictions)"
   ]
  },
  {
   "cell_type": "code",
   "execution_count": 58,
   "id": "5482b424-206e-4f5e-a217-10e804f69aa5",
   "metadata": {},
   "outputs": [
    {
     "data": {
      "text/plain": [
       "1.0"
      ]
     },
     "execution_count": 58,
     "metadata": {},
     "output_type": "execute_result"
    }
   ],
   "source": [
    "recall_score(y_test, predictions)"
   ]
  },
  {
   "cell_type": "code",
   "execution_count": 59,
   "id": "0ed5763f-3118-429f-8fc4-90c164a05327",
   "metadata": {},
   "outputs": [],
   "source": [
    "lr_params = {\"penalty\": [\"l1\", \"l2\", \"elasticnet\", \"none\"], \"C\": [0.1, 1, 10]}"
   ]
  },
  {
   "cell_type": "code",
   "execution_count": 61,
   "id": "d7ab228d-50ed-4666-b70e-7c1595665ee2",
   "metadata": {},
   "outputs": [],
   "source": [
    "pipe = Pipeline([(\"vectorizer\", TfidfVectorizer(tokenizer=lambda x: process_response(x))),\n",
    "                 (\"model\", GridSearchCV(LogisticRegression(), lr_params))])"
   ]
  },
  {
   "cell_type": "code",
   "execution_count": null,
   "id": "f2fdba4b-6b2d-498f-bc6d-997028f5b655",
   "metadata": {},
   "outputs": [],
   "source": []
  }
 ],
 "metadata": {
  "kernelspec": {
   "display_name": "Python 3 (ipykernel)",
   "language": "python",
   "name": "python3"
  },
  "language_info": {
   "codemirror_mode": {
    "name": "ipython",
    "version": 3
   },
   "file_extension": ".py",
   "mimetype": "text/x-python",
   "name": "python",
   "nbconvert_exporter": "python",
   "pygments_lexer": "ipython3",
   "version": "3.9.4"
  }
 },
 "nbformat": 4,
 "nbformat_minor": 5
}
